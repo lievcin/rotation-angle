{
 "cells": [
  {
   "cell_type": "code",
   "execution_count": 3,
   "metadata": {},
   "outputs": [],
   "source": [
    "from bs4 import BeautifulSoup\n",
    "import requests\n"
   ]
  },
  {
   "cell_type": "code",
   "execution_count": null,
   "metadata": {
    "scrolled": true
   },
   "outputs": [],
   "source": [
    "#some variables\n",
    "\n",
    "#url to retrieve sample images\n",
    "searches = ['pokemon', 'tsubasa', 'saint seiya']\n",
    "url = 'https://www.google.co.uk/search?q=pokemon&tbs=imgo:1,isz:ex,iszw:200,iszh:200&tbm=isch'\n",
    "\n",
    "# headers for browser\n",
    "headers = { 'User-Agent': 'Mozilla/5.0 (Windows NT 6.0; WOW64; rv:24.0) Gecko/20100101 Firefox/24.0' }\n",
    "\n",
    "\n",
    "r  = requests.get(url, headers=headers)\n",
    "soup = BeautifulSoup(r.text, \"html5lib\")\n",
    "images = soup.find_all(attrs={\"class\": \"rg_i\"})\n",
    "print(len(images))\n",
    "for image in images:\n",
    "    try:\n",
    "        image_url = image.get('data-src')\n",
    "    except:\n",
    "        None\n",
    "    print(image_url)\n",
    "# soup.find_all('a img')\n",
    "soup.find_all(attrs={\"class\": \"rg_i\"})[50].get('data-src')    "
   ]
  },
  {
   "cell_type": "code",
   "execution_count": null,
   "metadata": {},
   "outputs": [],
   "source": [
    "\n",
    "\n"
   ]
  },
  {
   "cell_type": "code",
   "execution_count": 22,
   "metadata": {},
   "outputs": [],
   "source": [
    "import boto3\n",
    "s3client = boto3.client('s3', region_name='us-east-2')\n",
    "objects = s3client.list_objects(Bucket='rotation-images')"
   ]
  },
  {
   "cell_type": "code",
   "execution_count": 23,
   "metadata": {},
   "outputs": [
    {
     "data": {
      "text/plain": [
       "{'ResponseMetadata': {'RequestId': 'DF39C75A1D93D465',\n",
       "  'HostId': 'YwuZ2MnBtqMC8lrRbpQmUNx7Al4B98WGGRGDIESVAoiNXVq/G7jmpViIkRerABCHp8TTK6lUEoQ=',\n",
       "  'HTTPStatusCode': 200,\n",
       "  'HTTPHeaders': {'x-amz-id-2': 'YwuZ2MnBtqMC8lrRbpQmUNx7Al4B98WGGRGDIESVAoiNXVq/G7jmpViIkRerABCHp8TTK6lUEoQ=',\n",
       "   'x-amz-request-id': 'DF39C75A1D93D465',\n",
       "   'date': 'Fri, 08 Jun 2018 11:57:54 GMT',\n",
       "   'x-amz-bucket-region': 'us-east-2',\n",
       "   'content-type': 'application/xml',\n",
       "   'transfer-encoding': 'chunked',\n",
       "   'server': 'AmazonS3'},\n",
       "  'RetryAttempts': 0},\n",
       " 'IsTruncated': False,\n",
       " 'Marker': '',\n",
       " 'Contents': [{'Key': 'cifar-10-batches-py/batches.meta',\n",
       "   'LastModified': datetime.datetime(2018, 6, 8, 11, 52, 16, tzinfo=tzutc()),\n",
       "   'ETag': '\"5ff9c542aee3614f3951f8cda6e48888\"',\n",
       "   'Size': 158,\n",
       "   'StorageClass': 'STANDARD',\n",
       "   'Owner': {'ID': '200d625641422dd5e30c9a61f6d84a22049a072b4c23781eb6a6ccad35da4737'}},\n",
       "  {'Key': 'cifar-10-batches-py/data_batch_1',\n",
       "   'LastModified': datetime.datetime(2018, 6, 8, 11, 52, 14, tzinfo=tzutc()),\n",
       "   'ETag': '\"c294c171f004680eddad77866edf3c42-2\"',\n",
       "   'Size': 31035704,\n",
       "   'StorageClass': 'STANDARD',\n",
       "   'Owner': {'ID': '200d625641422dd5e30c9a61f6d84a22049a072b4c23781eb6a6ccad35da4737'}},\n",
       "  {'Key': 'cifar-10-batches-py/data_batch_2',\n",
       "   'LastModified': datetime.datetime(2018, 6, 8, 11, 52, 14, tzinfo=tzutc()),\n",
       "   'ETag': '\"f56e2f1365653aa3dc9340029021cbc3-2\"',\n",
       "   'Size': 31035320,\n",
       "   'StorageClass': 'STANDARD',\n",
       "   'Owner': {'ID': '200d625641422dd5e30c9a61f6d84a22049a072b4c23781eb6a6ccad35da4737'}},\n",
       "  {'Key': 'cifar-10-batches-py/data_batch_3',\n",
       "   'LastModified': datetime.datetime(2018, 6, 8, 11, 54, 1, tzinfo=tzutc()),\n",
       "   'ETag': '\"8ff3bae2ae4c11692f06d744ac869cb0-2\"',\n",
       "   'Size': 31035999,\n",
       "   'StorageClass': 'STANDARD',\n",
       "   'Owner': {'ID': '200d625641422dd5e30c9a61f6d84a22049a072b4c23781eb6a6ccad35da4737'}},\n",
       "  {'Key': 'cifar-10-batches-py/data_batch_4',\n",
       "   'LastModified': datetime.datetime(2018, 6, 8, 11, 54, 1, tzinfo=tzutc()),\n",
       "   'ETag': '\"0dba4d27d7af2323ef3380265f2decc0-2\"',\n",
       "   'Size': 31035696,\n",
       "   'StorageClass': 'STANDARD',\n",
       "   'Owner': {'ID': '200d625641422dd5e30c9a61f6d84a22049a072b4c23781eb6a6ccad35da4737'}},\n",
       "  {'Key': 'cifar-10-batches-py/data_batch_5',\n",
       "   'LastModified': datetime.datetime(2018, 6, 8, 11, 54, 2, tzinfo=tzutc()),\n",
       "   'ETag': '\"32fc8ec9edf021764ade2e9e8215aca7-2\"',\n",
       "   'Size': 31035623,\n",
       "   'StorageClass': 'STANDARD',\n",
       "   'Owner': {'ID': '200d625641422dd5e30c9a61f6d84a22049a072b4c23781eb6a6ccad35da4737'}},\n",
       "  {'Key': 'cifar-10-batches-py/readme.html',\n",
       "   'LastModified': datetime.datetime(2018, 6, 8, 11, 56, 41, tzinfo=tzutc()),\n",
       "   'ETag': '\"82949b010606e8171045e61c60921d12\"',\n",
       "   'Size': 88,\n",
       "   'StorageClass': 'STANDARD',\n",
       "   'Owner': {'ID': '200d625641422dd5e30c9a61f6d84a22049a072b4c23781eb6a6ccad35da4737'}},\n",
       "  {'Key': 'cifar-10-batches-py/test_batch',\n",
       "   'LastModified': datetime.datetime(2018, 6, 8, 11, 56, 41, tzinfo=tzutc()),\n",
       "   'ETag': '\"b78f957d34b7f5e3189a172431e41b83-2\"',\n",
       "   'Size': 31035526,\n",
       "   'StorageClass': 'STANDARD',\n",
       "   'Owner': {'ID': '200d625641422dd5e30c9a61f6d84a22049a072b4c23781eb6a6ccad35da4737'}}],\n",
       " 'Name': 'rotation-images',\n",
       " 'Prefix': '',\n",
       " 'MaxKeys': 1000,\n",
       " 'EncodingType': 'url'}"
      ]
     },
     "execution_count": 23,
     "metadata": {},
     "output_type": "execute_result"
    }
   ],
   "source": [
    "objects"
   ]
  },
  {
   "cell_type": "code",
   "execution_count": null,
   "metadata": {},
   "outputs": [],
   "source": []
  }
 ],
 "metadata": {
  "kernelspec": {
   "display_name": "Python 3",
   "language": "python",
   "name": "python3"
  },
  "language_info": {
   "codemirror_mode": {
    "name": "ipython",
    "version": 3
   },
   "file_extension": ".py",
   "mimetype": "text/x-python",
   "name": "python",
   "nbconvert_exporter": "python",
   "pygments_lexer": "ipython3",
   "version": "3.6.5"
  }
 },
 "nbformat": 4,
 "nbformat_minor": 2
}
